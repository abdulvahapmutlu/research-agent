{
 "cells": [
  {
   "cell_type": "code",
   "execution_count": 1,
   "id": "cba997b5-e904-4498-a9d1-30fbf45dabe0",
   "metadata": {},
   "outputs": [
    {
     "name": "stdout",
     "output_type": "stream",
     "text": [
      "Will read PDFs from: C:\\Users\\offic\\AGENT\\data\\raw_papers\n",
      "JSON output to: C:\\Users\\offic\\AGENT\\data\\text_json\n"
     ]
    }
   ],
   "source": [
    "import os\n",
    "import json\n",
    "import fitz           # PyMuPDF\n",
    "from typing import List\n",
    "\n",
    "# Set your input/output paths:\n",
    "INPUT_DIR  = os.path.expanduser(r\"C:\\Users\\offic\\AGENT\\data\\raw_papers\")\n",
    "OUTPUT_DIR = os.path.expanduser(r\"C:\\Users\\offic\\AGENT\\data\\text_json\")\n",
    "\n",
    "# Make sure output folder exists\n",
    "os.makedirs(OUTPUT_DIR, exist_ok=True)\n",
    "\n",
    "print(\"Will read PDFs from:\", INPUT_DIR)\n",
    "print(\"JSON output to:\",   OUTPUT_DIR)\n"
   ]
  },
  {
   "cell_type": "code",
   "execution_count": 2,
   "id": "08f0de41-41e7-4046-b107-aae0b0d4fa21",
   "metadata": {},
   "outputs": [],
   "source": [
    "def extract_text_from_pdf(pdf_path: str) -> List[str]:\n",
    "    \"\"\"\n",
    "    Open a PDF and return a list of page-texts.\n",
    "    \"\"\"\n",
    "    doc = fitz.open(pdf_path)\n",
    "    pages = []\n",
    "    for i in range(doc.page_count):\n",
    "        page = doc.load_page(i)\n",
    "        pages.append(page.get_text(\"text\"))\n",
    "    doc.close()\n",
    "    return pages\n"
   ]
  },
  {
   "cell_type": "code",
   "execution_count": 3,
   "id": "92b44483-da9f-4717-93cb-3dcf9f98d67e",
   "metadata": {},
   "outputs": [
    {
     "name": "stdout",
     "output_type": "stream",
     "text": [
      "✅ 1312.6114v11.pdf → 1312.6114v11.json (14 pages)\n",
      "✅ 1361_a_closer_look_at_few_shot_clas.pdf → 1361_a_closer_look_at_few_shot_clas.json (16 pages)\n",
      "✅ 1406.2661v1.pdf → 1406.2661v1.json (9 pages)\n",
      "✅ 1503.02531v1.pdf → 1503.02531v1.json (9 pages)\n",
      "✅ 1512.00567v3.pdf → 1512.00567v3.json (10 pages)\n",
      "✅ 1512.03385v1.pdf → 1512.03385v1.json (12 pages)\n",
      "✅ 1605.07146v4.pdf → 1605.07146v4.json (15 pages)\n",
      "✅ 1608.06993v5.pdf → 1608.06993v5.json (9 pages)\n",
      "✅ 1686_a_baseline_for_few_shot_image_.pdf → 1686_a_baseline_for_few_shot_image_.json (20 pages)\n",
      "✅ 1703.00837v2.pdf → 1703.00837v2.json (11 pages)\n",
      "✅ 1703.03400v3.pdf → 1703.03400v3.json (13 pages)\n",
      "✅ 1703.05175v2.pdf → 1703.05175v2.json (13 pages)\n",
      "✅ 1706.03762v7.pdf → 1706.03762v7.json (15 pages)\n",
      "✅ 1707.03141v3.pdf → 1707.03141v3.json (17 pages)\n",
      "✅ 1707.09835v2.pdf → 1707.09835v2.json (11 pages)\n",
      "✅ 1709.00340v4.pdf → 1709.00340v4.json (12 pages)\n",
      "✅ 1710.09412v2.pdf → 1710.09412v2.json (13 pages)\n",
      "✅ 1711.04043v3.pdf → 1711.04043v3.json (13 pages)\n",
      "✅ 1711.05101v3.pdf → 1711.05101v3.json (19 pages)\n",
      "✅ 1711.06025v2.pdf → 1711.06025v2.json (10 pages)\n",
      "✅ 1803.00676v1.pdf → 1803.00676v1.json (15 pages)\n",
      "✅ 1803.02999v3.pdf → 1803.02999v3.json (15 pages)\n",
      "✅ 1803.07728v1.pdf → 1803.07728v1.json (16 pages)\n",
      "✅ 1805.08136v3.pdf → 1805.08136v3.json (15 pages)\n",
      "✅ 1805.10002v5.pdf → 1805.10002v5.json (14 pages)\n",
      "✅ 1805.10123v4.pdf → 1805.10123v4.json (13 pages)\n",
      "✅ 1812.01187v2.pdf → 1812.01187v2.json (10 pages)\n",
      "✅ 1812.03664v6.pdf → 1812.03664v6.json (18 pages)\n",
      "✅ 1903.03096v4.pdf → 1903.03096v4.json (24 pages)\n",
      "MuPDF error: syntax error: could not parse color space (232 0 R)\n",
      "\n",
      "✅ 1904.03758v2.pdf → 1904.03758v2.json (9 pages)\n",
      "✅ 1904.04232v2.pdf → 1904.04232v2.json (17 pages)\n",
      "✅ 1905.01436v1.pdf → 1905.01436v1.json (10 pages)\n",
      "✅ 1911.10807v1.pdf → 1911.10807v1.json (12 pages)\n",
      "✅ 2003.00804v1.pdf → 2003.00804v1.json (9 pages)\n",
      "✅ 2003.04390v4.pdf → 2003.04390v4.json (12 pages)\n",
      "✅ 2006.03806v3.pdf → 2006.03806v3.json (11 pages)\n",
      "✅ 2006.15486v3.pdf → 2006.15486v3.json (11 pages)\n",
      "✅ 2007.11498v5.pdf → 2007.11498v5.json (24 pages)\n",
      "✅ 2010.11929v2.pdf → 2010.11929v2.json (22 pages)\n",
      "✅ 20226-Article Text-24239-1-2-20220628.pdf → 20226-Article Text-24239-1-2-20220628.json (9 pages)\n",
      "✅ 2103.00020v1.pdf → 2103.00020v1.json (48 pages)\n",
      "✅ 2104.10972v4.pdf → 2104.10972v4.json (20 pages)\n",
      "✅ 2106.13871v3.pdf → 2106.13871v3.json (13 pages)\n",
      "✅ 2107.05427v1.pdf → 2107.05427v1.json (21 pages)\n",
      "✅ 2110.09446v1.pdf → 2110.09446v1.json (33 pages)\n",
      "✅ 2204.03065v1.pdf → 2204.03065v1.json (21 pages)\n",
      "✅ 2204.07305v1.pdf → 2204.07305v1.json (18 pages)\n",
      "✅ 2204.11181v1.pdf → 2204.11181v1.json (19 pages)\n",
      "✅ 2208.10559v1.pdf → 2208.10559v1.json (13 pages)\n",
      "✅ 2208.12398v1.pdf → 2208.12398v1.json (9 pages)\n",
      "✅ 2209.08527v1.pdf → 2209.08527v1.json (17 pages)\n",
      "✅ 2211.16191v2.pdf → 2211.16191v2.json (12 pages)\n",
      "✅ 2310.03517v2.pdf → 2310.03517v2.json (14 pages)\n",
      "✅ 2310.10971v2.pdf → 2310.10971v2.json (22 pages)\n",
      "✅ 2407.01467v1.pdf → 2407.01467v1.json (15 pages)\n",
      "✅ 41598_2022_Article_6718.pdf → 41598_2022_Article_6718.json (11 pages)\n",
      "✅ 910_few_shot_learning_with_graph_n.pdf → 910_few_shot_learning_with_graph_n.json (13 pages)\n",
      "✅ Gradient-based_learning_applied_to_document_recognition.pdf → Gradient-based_learning_applied_to_document_recognition.json (47 pages)\n",
      "✅ Hao_Class-Aware_Patch_Embedding_Adaptation_for_Few-Shot_Image_Classification_ICCV_2023_paper.pdf → Hao_Class-Aware_Patch_Embedding_Adaptation_for_Few-Shot_Image_Classification_ICCV_2023_paper.json (11 pages)\n",
      "✅ nature14539.pdf → nature14539.json (9 pages)\n",
      "✅ NeurIPS-2020-crosstransformers-spatially-aware-few-shot-transfer-Paper.pdf → NeurIPS-2020-crosstransformers-spatially-aware-few-shot-transfer-Paper.json (13 pages)\n",
      "✅ NeurIPS-2022-rethinking-generalization-in-few-shot-classification-Supplemental-Conference.pdf → NeurIPS-2022-rethinking-generalization-in-few-shot-classification-Supplemental-Conference.json (8 pages)\n",
      "✅ NIPS-2016-matching-networks-for-one-shot-learning-Paper.pdf → NIPS-2016-matching-networks-for-one-shot-learning-Paper.json (9 pages)\n",
      "✅ oneshot1.pdf → oneshot1.json (8 pages)\n",
      "✅ srivastava14a.pdf → srivastava14a.json (30 pages)\n",
      "✅ The_Graph_Neural_Network_Model.pdf → The_Graph_Neural_Network_Model.json (20 pages)\n",
      "✅ WelinderEtal10_CUB-200.pdf → WelinderEtal10_CUB-200.json (16 pages)\n"
     ]
    }
   ],
   "source": [
    "# Find all PDF filenames\n",
    "pdf_files = [f for f in os.listdir(INPUT_DIR) if f.lower().endswith(\".pdf\")]\n",
    "\n",
    "if not pdf_files:\n",
    "    print(\"❗ No PDFs found in\", INPUT_DIR)\n",
    "else:\n",
    "    for fn in pdf_files:\n",
    "        in_path = os.path.join(INPUT_DIR, fn)\n",
    "        try:\n",
    "            pages = extract_text_from_pdf(in_path)\n",
    "            data = {\n",
    "                \"filename\":  fn,\n",
    "                \"num_pages\": len(pages),\n",
    "                \"pages\":     pages,\n",
    "                \"full_text\": \"\\n\\n\".join(pages),\n",
    "            }\n",
    "            out_name = fn.rsplit(\".\",1)[0] + \".json\"\n",
    "            out_path = os.path.join(OUTPUT_DIR, out_name)\n",
    "            with open(out_path, \"w\", encoding=\"utf-8\") as f:\n",
    "                json.dump(data, f, ensure_ascii=False, indent=2)\n",
    "            print(f\"✅ {fn} → {out_name} ({len(pages)} pages)\")\n",
    "        except Exception as e:\n",
    "            print(f\"❌ Failed {fn}: {e}\")\n"
   ]
  },
  {
   "cell_type": "code",
   "execution_count": 4,
   "id": "f1792e68-3b13-45dc-9db8-5d03ce4132b5",
   "metadata": {},
   "outputs": [
    {
     "name": "stdout",
     "output_type": "stream",
     "text": [
      "JSON files now in: C:\\Users\\offic\\AGENT\\data\\text_json\n",
      "['1312.6114v11.json', '1361_a_closer_look_at_few_shot_clas.json', '1406.2661v1.json', '1503.02531v1.json', '1512.00567v3.json', '1512.03385v1.json', '1605.07146v4.json', '1608.06993v5.json', '1686_a_baseline_for_few_shot_image_.json', '1703.00837v2.json']\n"
     ]
    }
   ],
   "source": [
    "print(\"JSON files now in:\", OUTPUT_DIR)\n",
    "print(os.listdir(OUTPUT_DIR)[:10])  # show up to first 10\n"
   ]
  }
 ],
 "metadata": {
  "kernelspec": {
   "display_name": "Python 3 (ipykernel)",
   "language": "python",
   "name": "python3"
  },
  "language_info": {
   "codemirror_mode": {
    "name": "ipython",
    "version": 3
   },
   "file_extension": ".py",
   "mimetype": "text/x-python",
   "name": "python",
   "nbconvert_exporter": "python",
   "pygments_lexer": "ipython3",
   "version": "3.10.16"
  }
 },
 "nbformat": 4,
 "nbformat_minor": 5
}
