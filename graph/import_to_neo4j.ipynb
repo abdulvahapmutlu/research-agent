{
 "cells": [
  {
   "cell_type": "code",
   "execution_count": 1,
   "id": "23c66d5d-251f-49f1-84f9-d8260e0409cf",
   "metadata": {},
   "outputs": [
    {
     "name": "stdout",
     "output_type": "stream",
     "text": [
      "Collecting neo4j\n",
      "  Downloading neo4j-5.28.1-py3-none-any.whl.metadata (5.9 kB)\n",
      "Collecting pytz (from neo4j)\n",
      "  Downloading pytz-2025.2-py2.py3-none-any.whl.metadata (22 kB)\n",
      "Downloading neo4j-5.28.1-py3-none-any.whl (312 kB)\n",
      "Downloading pytz-2025.2-py2.py3-none-any.whl (509 kB)\n",
      "Installing collected packages: pytz, neo4j\n",
      "Successfully installed neo4j-5.28.1 pytz-2025.2\n",
      "Note: you may need to restart the kernel to use updated packages.\n"
     ]
    }
   ],
   "source": [
    "pip install neo4j"
   ]
  },
  {
   "cell_type": "code",
   "execution_count": 2,
   "id": "c57d5bc2-e0a1-4922-8c3e-cd0a3ac444e6",
   "metadata": {},
   "outputs": [],
   "source": [
    "from neo4j import GraphDatabase\n",
    "import json, os\n",
    "\n",
    "# --- Adjust these to your setup ---\n",
    "URI      = \"bolt://localhost:7687\"\n",
    "AUTH     = (\"neo4j\",\"password\")   # your password here\n",
    "REL_PATH = r\"C:\\Users\\offic\\AGENT\\data\\nlp\\relations.json\"\n"
   ]
  },
  {
   "cell_type": "code",
   "execution_count": 3,
   "id": "7f2f71c1-27f5-48f5-931c-a71b6c61952d",
   "metadata": {},
   "outputs": [
    {
     "name": "stdout",
     "output_type": "stream",
     "text": [
      "Constraints ensured.\n"
     ]
    }
   ],
   "source": [
    "driver = GraphDatabase.driver(URI, auth=AUTH)\n",
    "with driver.session() as session:\n",
    "    session.run(\"CREATE CONSTRAINT IF NOT EXISTS FOR (p:Paper)   REQUIRE p.id IS UNIQUE;\")\n",
    "    session.run(\"CREATE CONSTRAINT IF NOT EXISTS FOR (m:Method)  REQUIRE m.name IS UNIQUE;\")\n",
    "    session.run(\"CREATE CONSTRAINT IF NOT EXISTS FOR (d:Dataset) REQUIRE d.name IS UNIQUE;\")\n",
    "print(\"Constraints ensured.\")\n"
   ]
  },
  {
   "cell_type": "code",
   "execution_count": 4,
   "id": "196f9006-bdb7-42a5-8297-59ab8142c2c0",
   "metadata": {},
   "outputs": [
    {
     "name": "stdout",
     "output_type": "stream",
     "text": [
      "Imported 325838 relations.\n"
     ]
    }
   ],
   "source": [
    "# Load your extracted relations\n",
    "with open(REL_PATH, encoding=\"utf-8\") as f:\n",
    "    triples = json.load(f)\n",
    "\n",
    "def import_triples(triples):\n",
    "    with driver.session() as session:\n",
    "        for t in triples:\n",
    "            params = {\n",
    "                \"pid\":    t[\"paper_id\"],\n",
    "                \"method\": t[\"method\"],\n",
    "                \"dataset\":t[\"dataset\"],\n",
    "                \"sent\":   t.get(\"sentence\",\"\"),\n",
    "                \"metric\": t.get(\"metric\")\n",
    "            }\n",
    "            if params[\"metric\"]:\n",
    "                cypher = \"\"\"\n",
    "                MERGE (p:Paper {id:$pid})\n",
    "                MERGE (m:Method {name:$method})\n",
    "                MERGE (d:Dataset {name:$dataset})\n",
    "                MERGE (p)-[:DESCRIBES]->(m)\n",
    "                MERGE (m)-[r:USED_ON {metric:$metric}]->(d)\n",
    "                SET r.sentence = $sent\n",
    "                \"\"\"\n",
    "            else:\n",
    "                cypher = \"\"\"\n",
    "                MERGE (p:Paper {id:$pid})\n",
    "                MERGE (m:Method {name:$method})\n",
    "                MERGE (d:Dataset {name:$dataset})\n",
    "                MERGE (p)-[:DESCRIBES]->(m)\n",
    "                MERGE (m)-[r:USED_ON]->(d)\n",
    "                SET r.sentence = $sent\n",
    "                \"\"\"\n",
    "            session.run(cypher, **params)\n",
    "\n",
    "import_triples(triples)\n",
    "print(f\"Imported {len(triples)} relations.\")\n"
   ]
  },
  {
   "cell_type": "code",
   "execution_count": 5,
   "id": "9d6bf757-72eb-43b8-87d1-701021ba233f",
   "metadata": {},
   "outputs": [
    {
     "name": "stdout",
     "output_type": "stream",
     "text": [
      "<Record Method='ResNet' Dataset='ImageNet' Metric='1.0%'>\n",
      "<Record Method='ViT' Dataset='ImageNet' Metric='95%'>\n",
      "<Record Method='ResNet34' Dataset='ImageNet' Metric='1%'>\n",
      "<Record Method='ViT-h' Dataset='ImageNet' Metric=None>\n",
      "<Record Method='ViT-huge' Dataset='ImageNet' Metric=None>\n"
     ]
    }
   ],
   "source": [
    "# Run a small Cypher from Python\n",
    "with driver.session() as session:\n",
    "    result = session.run(\n",
    "        \"MATCH (m:Method)-[r:USED_ON]->(d:Dataset) \"\n",
    "        \"RETURN m.name AS Method, d.name AS Dataset, r.metric AS Metric \"\n",
    "        \"LIMIT 5\"\n",
    "    )\n",
    "    for record in result:\n",
    "        print(record)\n",
    "driver.close()\n"
   ]
  },
  {
   "cell_type": "code",
   "execution_count": null,
   "id": "7f5423ad-348c-48a1-a403-b8642d0434a5",
   "metadata": {},
   "outputs": [],
   "source": []
  }
 ],
 "metadata": {
  "kernelspec": {
   "display_name": "Python 3 (ipykernel)",
   "language": "python",
   "name": "python3"
  },
  "language_info": {
   "codemirror_mode": {
    "name": "ipython",
    "version": 3
   },
   "file_extension": ".py",
   "mimetype": "text/x-python",
   "name": "python",
   "nbconvert_exporter": "python",
   "pygments_lexer": "ipython3",
   "version": "3.10.16"
  }
 },
 "nbformat": 4,
 "nbformat_minor": 5
}
